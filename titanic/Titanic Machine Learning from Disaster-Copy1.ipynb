{
 "cells": [
  {
   "cell_type": "code",
   "execution_count": 34,
   "metadata": {
    "collapsed": true
   },
   "outputs": [],
   "source": [
    "# Imports\n",
    "import pandas as pd\n",
    "import numpy as np\n",
    "\n",
    "# machine learning\n",
    "from sklearn import svm\n",
    "from sklearn.ensemble import VotingClassifier\n",
    "from sklearn.ensemble import GradientBoostingClassifier\n",
    "from sklearn.ensemble import AdaBoostClassifier\n",
    "from sklearn.model_selection import cross_val_score\n",
    "from sklearn.ensemble import RandomForestClassifier\n",
    "from sklearn import preprocessing\n",
    "\n",
    "# xgboost\n",
    "import xgboost as xgb"
   ]
  },
  {
   "cell_type": "code",
   "execution_count": 35,
   "metadata": {
    "collapsed": true
   },
   "outputs": [],
   "source": [
    "# 自定義的function\n",
    "\n",
    "# 算出list各個值的數量\n",
    "def word_count(data_list):\n",
    "    data_dict = {}\n",
    "    data_dict['nan'] = 0\n",
    "    for item in data_list:\n",
    "        if pd.isnull(item):\n",
    "            data_dict['nan'] += 1\n",
    "        else:\n",
    "            if item not in data_dict:\n",
    "                data_dict[item] = 1\n",
    "            else:\n",
    "                data_dict[item] += 1\n",
    "    return data_dict\n",
    "\n",
    "# 算 accuracy, precision, recall\n",
    "def performance(clf, X_train, Y_train, cv_num = 4):\n",
    "    scores = cross_val_score(clf, X_train, Y_train, cv=cv_num , scoring='precision')\n",
    "    print \"precision is {}\".format(scores.mean())\n",
    "    \n",
    "    scores = cross_val_score(clf, X_train, Y_train, cv=cv_num , scoring='recall')\n",
    "    print \"recall is {}\".format(scores.mean())\n",
    "\n",
    "    scores = cross_val_score(clf, X_train, Y_train, cv=cv_num , scoring='accuracy')\n",
    "    print \"accuracy is {}\".format(scores.mean())"
   ]
  },
  {
   "cell_type": "code",
   "execution_count": 36,
   "metadata": {
    "collapsed": true
   },
   "outputs": [],
   "source": [
    "# get titanic & test csv files as a DataFrame\n",
    "titanic_df = pd.read_csv(\"/Users/wy/notebook/kaggle_competitions/titanic/train.csv\")\n",
    "test_df    = pd.read_csv(\"/Users/wy/notebook/kaggle_competitions/titanic/test.csv\")"
   ]
  },
  {
   "cell_type": "code",
   "execution_count": 37,
   "metadata": {
    "collapsed": false
   },
   "outputs": [
    {
     "data": {
      "text/html": [
       "<div>\n",
       "<table border=\"1\" class=\"dataframe\">\n",
       "  <thead>\n",
       "    <tr style=\"text-align: right;\">\n",
       "      <th></th>\n",
       "      <th>PassengerId</th>\n",
       "      <th>Survived</th>\n",
       "      <th>Pclass</th>\n",
       "      <th>Name</th>\n",
       "      <th>Sex</th>\n",
       "      <th>Age</th>\n",
       "      <th>SibSp</th>\n",
       "      <th>Parch</th>\n",
       "      <th>Ticket</th>\n",
       "      <th>Fare</th>\n",
       "      <th>Cabin</th>\n",
       "      <th>Embarked</th>\n",
       "    </tr>\n",
       "  </thead>\n",
       "  <tbody>\n",
       "    <tr>\n",
       "      <th>0</th>\n",
       "      <td>1</td>\n",
       "      <td>0</td>\n",
       "      <td>3</td>\n",
       "      <td>Braund, Mr. Owen Harris</td>\n",
       "      <td>male</td>\n",
       "      <td>22.0</td>\n",
       "      <td>1</td>\n",
       "      <td>0</td>\n",
       "      <td>A/5 21171</td>\n",
       "      <td>7.2500</td>\n",
       "      <td>NaN</td>\n",
       "      <td>S</td>\n",
       "    </tr>\n",
       "    <tr>\n",
       "      <th>1</th>\n",
       "      <td>2</td>\n",
       "      <td>1</td>\n",
       "      <td>1</td>\n",
       "      <td>Cumings, Mrs. John Bradley (Florence Briggs Th...</td>\n",
       "      <td>female</td>\n",
       "      <td>38.0</td>\n",
       "      <td>1</td>\n",
       "      <td>0</td>\n",
       "      <td>PC 17599</td>\n",
       "      <td>71.2833</td>\n",
       "      <td>C85</td>\n",
       "      <td>C</td>\n",
       "    </tr>\n",
       "    <tr>\n",
       "      <th>2</th>\n",
       "      <td>3</td>\n",
       "      <td>1</td>\n",
       "      <td>3</td>\n",
       "      <td>Heikkinen, Miss. Laina</td>\n",
       "      <td>female</td>\n",
       "      <td>26.0</td>\n",
       "      <td>0</td>\n",
       "      <td>0</td>\n",
       "      <td>STON/O2. 3101282</td>\n",
       "      <td>7.9250</td>\n",
       "      <td>NaN</td>\n",
       "      <td>S</td>\n",
       "    </tr>\n",
       "    <tr>\n",
       "      <th>3</th>\n",
       "      <td>4</td>\n",
       "      <td>1</td>\n",
       "      <td>1</td>\n",
       "      <td>Futrelle, Mrs. Jacques Heath (Lily May Peel)</td>\n",
       "      <td>female</td>\n",
       "      <td>35.0</td>\n",
       "      <td>1</td>\n",
       "      <td>0</td>\n",
       "      <td>113803</td>\n",
       "      <td>53.1000</td>\n",
       "      <td>C123</td>\n",
       "      <td>S</td>\n",
       "    </tr>\n",
       "    <tr>\n",
       "      <th>4</th>\n",
       "      <td>5</td>\n",
       "      <td>0</td>\n",
       "      <td>3</td>\n",
       "      <td>Allen, Mr. William Henry</td>\n",
       "      <td>male</td>\n",
       "      <td>35.0</td>\n",
       "      <td>0</td>\n",
       "      <td>0</td>\n",
       "      <td>373450</td>\n",
       "      <td>8.0500</td>\n",
       "      <td>NaN</td>\n",
       "      <td>S</td>\n",
       "    </tr>\n",
       "  </tbody>\n",
       "</table>\n",
       "</div>"
      ],
      "text/plain": [
       "   PassengerId  Survived  Pclass  \\\n",
       "0            1         0       3   \n",
       "1            2         1       1   \n",
       "2            3         1       3   \n",
       "3            4         1       1   \n",
       "4            5         0       3   \n",
       "\n",
       "                                                Name     Sex   Age  SibSp  \\\n",
       "0                            Braund, Mr. Owen Harris    male  22.0      1   \n",
       "1  Cumings, Mrs. John Bradley (Florence Briggs Th...  female  38.0      1   \n",
       "2                             Heikkinen, Miss. Laina  female  26.0      0   \n",
       "3       Futrelle, Mrs. Jacques Heath (Lily May Peel)  female  35.0      1   \n",
       "4                           Allen, Mr. William Henry    male  35.0      0   \n",
       "\n",
       "   Parch            Ticket     Fare Cabin Embarked  \n",
       "0      0         A/5 21171   7.2500   NaN        S  \n",
       "1      0          PC 17599  71.2833   C85        C  \n",
       "2      0  STON/O2. 3101282   7.9250   NaN        S  \n",
       "3      0            113803  53.1000  C123        S  \n",
       "4      0            373450   8.0500   NaN        S  "
      ]
     },
     "execution_count": 37,
     "metadata": {},
     "output_type": "execute_result"
    }
   ],
   "source": [
    "# 稍微看一下 data長怎樣\n",
    "titanic_df.head()"
   ]
  },
  {
   "cell_type": "code",
   "execution_count": 38,
   "metadata": {
    "collapsed": false
   },
   "outputs": [
    {
     "name": "stdout",
     "output_type": "stream",
     "text": [
      "<class 'pandas.core.frame.DataFrame'>\n",
      "RangeIndex: 891 entries, 0 to 890\n",
      "Data columns (total 12 columns):\n",
      "PassengerId    891 non-null int64\n",
      "Survived       891 non-null int64\n",
      "Pclass         891 non-null int64\n",
      "Name           891 non-null object\n",
      "Sex            891 non-null object\n",
      "Age            714 non-null float64\n",
      "SibSp          891 non-null int64\n",
      "Parch          891 non-null int64\n",
      "Ticket         891 non-null object\n",
      "Fare           891 non-null float64\n",
      "Cabin          204 non-null object\n",
      "Embarked       889 non-null object\n",
      "dtypes: float64(2), int64(5), object(5)\n",
      "memory usage: 83.6+ KB\n",
      "--------------\n",
      "<class 'pandas.core.frame.DataFrame'>\n",
      "RangeIndex: 418 entries, 0 to 417\n",
      "Data columns (total 11 columns):\n",
      "PassengerId    418 non-null int64\n",
      "Pclass         418 non-null int64\n",
      "Name           418 non-null object\n",
      "Sex            418 non-null object\n",
      "Age            332 non-null float64\n",
      "SibSp          418 non-null int64\n",
      "Parch          418 non-null int64\n",
      "Ticket         418 non-null object\n",
      "Fare           417 non-null float64\n",
      "Cabin          91 non-null object\n",
      "Embarked       418 non-null object\n",
      "dtypes: float64(2), int64(4), object(5)\n",
      "memory usage: 36.0+ KB\n"
     ]
    }
   ],
   "source": [
    "titanic_df.info()\n",
    "print \"--------------\"\n",
    "test_df.info()"
   ]
  },
  {
   "cell_type": "code",
   "execution_count": 39,
   "metadata": {
    "collapsed": false
   },
   "outputs": [
    {
     "data": {
      "text/plain": [
       "Index([u'PassengerId', u'Survived', u'Pclass', u'Name', u'Sex', u'Age',\n",
       "       u'SibSp', u'Parch', u'Ticket', u'Fare', u'Cabin', u'Embarked'],\n",
       "      dtype='object')"
      ]
     },
     "execution_count": 39,
     "metadata": {},
     "output_type": "execute_result"
    }
   ],
   "source": [
    "titanic_df.columns"
   ]
  },
  {
   "cell_type": "code",
   "execution_count": 40,
   "metadata": {
    "collapsed": false
   },
   "outputs": [
    {
     "name": "stdout",
     "output_type": "stream",
     "text": [
      "{0: 549, 1: 342, 'nan': 0}\n",
      "{1: 216, 2: 184, 3: 491, 'nan': 0}\n",
      "{'male': 577, 'nan': 0, 'female': 314}\n"
     ]
    }
   ],
   "source": [
    "# 了解各個欄位的值的分佈情形\n",
    "\n",
    "print word_count(titanic_df['Survived'].tolist())\n",
    "print word_count(titanic_df[u'Pclass'].tolist())\n",
    "print word_count(titanic_df[u'Sex'].tolist())\n",
    "# print word_count(titanic_df[u'SibSp'].tolist())\n",
    "# print word_count(titanic_df[u'Parch'].tolist())\n",
    "# print word_count(titanic_df[u'Embarked'].tolist())\n",
    "# print word_count(titanic_df[u'Fare'].tolist())"
   ]
  },
  {
   "cell_type": "code",
   "execution_count": 41,
   "metadata": {
    "collapsed": true
   },
   "outputs": [],
   "source": [
    "# 結果\n",
    "# PassengerId 流水編號 無意義\n",
    "# Survived {0: 549, 1: 342, 'nan': 0}\n",
    "# Pclass {1: 216, 2: 184, 3: 491, 'nan': 0}\n",
    "# Name 無意義\n",
    "# Sex {'female': 314, 'male': 577, 'nan': 0}\n",
    "# Age 0.42 - 80 'nan':177 要處理\n",
    "# SibSp {0: 608, 1: 209, 2: 28, 3: 16, 4: 18, 5: 5, 8: 7, 'nan': 0}\n",
    "# Parch {0: 678, 1: 118, 2: 80, 3: 5, 4: 4, 5: 5, 6: 1, 'nan': 0}\n",
    "# Ticket 無意義\n",
    "# Fare 0 - 512\n",
    "# Cabin nan 過多\n",
    "# Embarked {'C': 168, 'Q': 77, 'S': 644, 'nan': 2}\n",
    "\n",
    "# 處理方式\n",
    "# PassengerId, Name, Ticket 無意義拿掉\n",
    "# Age 產生隨機年齡遞補\n",
    "# Embarked nan 2個 填上最多的 S"
   ]
  },
  {
   "cell_type": "code",
   "execution_count": 42,
   "metadata": {
    "collapsed": false
   },
   "outputs": [
    {
     "name": "stderr",
     "output_type": "stream",
     "text": [
      "/Users/wy/anaconda/envs/condapy2.7/lib/python2.7/site-packages/IPython/kernel/__main__.py:17: SettingWithCopyWarning: \n",
      "A value is trying to be set on a copy of a slice from a DataFrame\n",
      "\n",
      "See the caveats in the documentation: http://pandas.pydata.org/pandas-docs/stable/indexing.html#indexing-view-versus-copy\n"
     ]
    }
   ],
   "source": [
    "# 處理 titanic_df\n",
    "\n",
    "# PassengerId, Name, Ticket 無意義拿掉\n",
    "titanic_df = titanic_df.drop(['PassengerId','Name','Ticket','Cabin'], axis=1)\n",
    "\n",
    "# Embarked nan 2個 填上最多的 S\n",
    "titanic_df[\"Embarked\"] = titanic_df[\"Embarked\"].fillna(\"S\")\n",
    "\n",
    "# Age 產生隨機年齡遞補\n",
    "# get average, std, and number of NaN values in titanic_df\n",
    "average_age_titanic   = titanic_df[\"Age\"].mean()\n",
    "std_age_titanic       = titanic_df[\"Age\"].std()\n",
    "count_nan_age_titanic = titanic_df[\"Age\"].isnull().sum()\n",
    "# generate random numbers between (mean - std) & (mean + std)\n",
    "rand_1 = np.random.randint(average_age_titanic - std_age_titanic,\n",
    "                           average_age_titanic + std_age_titanic, size = count_nan_age_titanic)\n",
    "titanic_df[\"Age\"][np.isnan(titanic_df[\"Age\"])] = rand_1"
   ]
  },
  {
   "cell_type": "code",
   "execution_count": 43,
   "metadata": {
    "collapsed": false
   },
   "outputs": [
    {
     "name": "stderr",
     "output_type": "stream",
     "text": [
      "/Users/wy/anaconda/envs/condapy2.7/lib/python2.7/site-packages/IPython/kernel/__main__.py:16: SettingWithCopyWarning: \n",
      "A value is trying to be set on a copy of a slice from a DataFrame\n",
      "\n",
      "See the caveats in the documentation: http://pandas.pydata.org/pandas-docs/stable/indexing.html#indexing-view-versus-copy\n"
     ]
    }
   ],
   "source": [
    "# 處理 test_df\n",
    "\n",
    "# PassengerId, Name, Ticket 無意義拿掉\n",
    "test_passengerId = test_df[\"PassengerId\"]\n",
    "test_df = test_df.drop(['PassengerId','Name','Ticket','Cabin'], axis=1)\n",
    "\n",
    "# Age 產生隨機年齡遞補\n",
    "# get average, std, and number of NaN values in titanic_df\n",
    "average_age_test_titanic   = test_df[\"Age\"].mean()\n",
    "std_age_test_titanic       = test_df[\"Age\"].std()\n",
    "count_nan_age_test_titanic = test_df[\"Age\"].isnull().sum()\n",
    "\n",
    "# generate random numbers between (mean - std) & (mean + std)\n",
    "rand_2 = np.random.randint(average_age_test_titanic - std_age_test_titanic,\n",
    "                           average_age_test_titanic + std_age_test_titanic, size = count_nan_age_test_titanic)\n",
    "test_df[\"Age\"][np.isnan(test_df[\"Age\"])] = rand_2\n"
   ]
  },
  {
   "cell_type": "code",
   "execution_count": 44,
   "metadata": {
    "collapsed": false
   },
   "outputs": [],
   "source": [
    "# data processing\n",
    "\n",
    "# train data\n",
    "# 把train的答案分開\n",
    "X_train = titanic_df.drop(\"Survived\",axis=1)\n",
    "Y_train = titanic_df[\"Survived\"]\n",
    "\n",
    "# 把Embarked, Sex 的值展開\n",
    "Embarked_dummies = pd.get_dummies(X_train['Embarked'])\n",
    "Sex_dummies = pd.get_dummies(X_train['Sex'])\n",
    "X_train.drop(['Embarked','Sex'], axis=1, inplace=True)\n",
    "X_train = X_train.join(Embarked_dummies).join(Sex_dummies)\n",
    "\n",
    "# minmax\n",
    "min_max_scaler = preprocessing.MinMaxScaler()\n",
    "X_train_minmax = min_max_scaler.fit_transform(X_train)\n",
    "\n",
    "# test data\n",
    "# 把Embarked, Sex 的值展開\n",
    "Embarked_dummies = pd.get_dummies(test_df['Embarked'])\n",
    "Sex_dummies = pd.get_dummies(test_df['Sex'])\n",
    "test_df.drop(['Embarked','Sex'], axis=1, inplace=True)\n",
    "test_df = test_df.join(Embarked_dummies).join(Sex_dummies)\n",
    "\n",
    "# 處理 test fare的缺失值\n",
    "test_df['Fare'] = test_df['Fare'].fillna(test_df['Fare'].mean())\n",
    "\n",
    "# minmax\n",
    "X_test_minmax = min_max_scaler.fit_transform(test_df)"
   ]
  },
  {
   "cell_type": "code",
   "execution_count": 45,
   "metadata": {
    "collapsed": false
   },
   "outputs": [
    {
     "name": "stdout",
     "output_type": "stream",
     "text": [
      "rf\n",
      "precision is 0.768350468183\n",
      "recall is 0.725205198358\n",
      "accuracy is 0.810414394215\n",
      "svm\n",
      "precision is 0.741531165312\n",
      "recall is 0.680950752394\n",
      "accuracy is 0.786710647627\n",
      "Ada\n",
      "precision is 0.772972799801\n",
      "recall is 0.725\n",
      "accuracy is 0.81151545123\n",
      "Gbc\n",
      "precision is 0.795814660691\n",
      "recall is 0.742544459644\n",
      "accuracy is 0.827200779415\n",
      "gbm\n",
      "precision is 0.795814660691\n",
      "recall is 0.742544459644\n",
      "accuracy is 0.827200779415\n",
      "eclf\n",
      "precision is 0.806661920725\n",
      "recall is 0.73365253078\n",
      "accuracy is 0.829417772593\n"
     ]
    }
   ],
   "source": [
    "# 資料處理完成，開始跑模型\n",
    "\n",
    "# clf\n",
    "clf1 = RandomForestClassifier(n_estimators=50, max_depth=None,min_samples_split=2, random_state=443)\n",
    "print \"rf\"\n",
    "performance(clf1, X_train_minmax, Y_train)\n",
    "\n",
    "clf2 = svm.SVC()\n",
    "print \"svm\"\n",
    "performance(clf2, X_train_minmax, Y_train)\n",
    "\n",
    "clf3 = AdaBoostClassifier(n_estimators=100)\n",
    "print \"Ada\"\n",
    "performance(clf3, X_train_minmax, Y_train)\n",
    "\n",
    "clf4 = GradientBoostingClassifier(n_estimators=100, learning_rate=1.0,max_depth=1, random_state=0)\n",
    "print \"Gbc\"\n",
    "performance(clf4, X_train_minmax, Y_train)\n",
    "\n",
    "gbm = xgb.XGBClassifier(max_depth=7, n_estimators=300, learning_rate=0.05)\n",
    "print \"gbm\"\n",
    "performance(clf4, X_train_minmax, Y_train)\n",
    "\n",
    "eclf = VotingClassifier(estimators=[('rf', clf1), ('svm', clf2), \n",
    "                                    ('Ada', clf3), ('Gbc', clf4), ('gbm', gbm)], voting='hard')\n",
    "print \"eclf\"\n",
    "performance(eclf, X_train_minmax, Y_train)"
   ]
  },
  {
   "cell_type": "code",
   "execution_count": 30,
   "metadata": {
    "collapsed": true
   },
   "outputs": [],
   "source": [
    "eclf = eclf.fit(X_train_minmax,Y_train)\n",
    "test_predict = eclf.predict(X_test_minmax)"
   ]
  },
  {
   "cell_type": "code",
   "execution_count": 32,
   "metadata": {
    "collapsed": false
   },
   "outputs": [],
   "source": [
    "submission = pd.DataFrame({\n",
    "        \"PassengerId\": test_passengerId,\n",
    "        \"Survived\": test_predict\n",
    "    })"
   ]
  },
  {
   "cell_type": "code",
   "execution_count": 33,
   "metadata": {
    "collapsed": false
   },
   "outputs": [],
   "source": [
    "submission.to_csv('/Users/wy/Desktop/titanic4.csv', index=False)"
   ]
  }
 ],
 "metadata": {
  "kernelspec": {
   "display_name": "Python 2",
   "language": "python",
   "name": "python2"
  },
  "language_info": {
   "codemirror_mode": {
    "name": "ipython",
    "version": 2
   },
   "file_extension": ".py",
   "mimetype": "text/x-python",
   "name": "python",
   "nbconvert_exporter": "python",
   "pygments_lexer": "ipython2",
   "version": "2.7.12"
  }
 },
 "nbformat": 4,
 "nbformat_minor": 0
}
